{
 "cells": [
  {
   "cell_type": "code",
   "execution_count": 1,
   "id": "5f71dde7",
   "metadata": {},
   "outputs": [],
   "source": [
    "import numpy as np\n",
    "import pandas as pd\n",
    "import chess\n",
    "import matplotlib.pyplot as plt\n",
    "%matplotlib inline"
   ]
  },
  {
   "cell_type": "code",
   "execution_count": 2,
   "id": "f3bfe3b5",
   "metadata": {},
   "outputs": [
    {
     "data": {
      "text/html": [
       "<div>\n",
       "<style scoped>\n",
       "    .dataframe tbody tr th:only-of-type {\n",
       "        vertical-align: middle;\n",
       "    }\n",
       "\n",
       "    .dataframe tbody tr th {\n",
       "        vertical-align: top;\n",
       "    }\n",
       "\n",
       "    .dataframe thead th {\n",
       "        text-align: right;\n",
       "    }\n",
       "</style>\n",
       "<table border=\"1\" class=\"dataframe\">\n",
       "  <thead>\n",
       "    <tr style=\"text-align: right;\">\n",
       "      <th></th>\n",
       "      <th>white_username</th>\n",
       "      <th>black_username</th>\n",
       "      <th>white_id</th>\n",
       "      <th>black_id</th>\n",
       "      <th>white_rating</th>\n",
       "      <th>black_rating</th>\n",
       "      <th>white_result</th>\n",
       "      <th>black_result</th>\n",
       "      <th>time_class</th>\n",
       "      <th>time_control</th>\n",
       "      <th>rules</th>\n",
       "      <th>rated</th>\n",
       "      <th>fen</th>\n",
       "      <th>pgn</th>\n",
       "      <th>opening</th>\n",
       "      <th>white_group</th>\n",
       "      <th>black_group</th>\n",
       "    </tr>\n",
       "  </thead>\n",
       "  <tbody>\n",
       "    <tr>\n",
       "      <th>0</th>\n",
       "      <td>-Amos-</td>\n",
       "      <td>miniman2804</td>\n",
       "      <td>https://api.chess.com/pub/player/-amos-</td>\n",
       "      <td>https://api.chess.com/pub/player/miniman2804</td>\n",
       "      <td>1708</td>\n",
       "      <td>1608</td>\n",
       "      <td>win</td>\n",
       "      <td>checkmated</td>\n",
       "      <td>daily</td>\n",
       "      <td>1/259200</td>\n",
       "      <td>chess</td>\n",
       "      <td>True</td>\n",
       "      <td>r2r4/p2p1p1p/b6R/n1p1kp2/2P2P2/3BP3/PP5P/4K2R ...</td>\n",
       "      <td>[Event \"Enjoyable games 2 - Round 1\"]\\n[Site \"...</td>\n",
       "      <td>Nimzo-Indian-Defense-Spielmann-Variation</td>\n",
       "      <td>1600-1799</td>\n",
       "      <td>1600-1799</td>\n",
       "    </tr>\n",
       "    <tr>\n",
       "      <th>1</th>\n",
       "      <td>-Amos-</td>\n",
       "      <td>koltcho69</td>\n",
       "      <td>https://api.chess.com/pub/player/-amos-</td>\n",
       "      <td>https://api.chess.com/pub/player/koltcho69</td>\n",
       "      <td>1726</td>\n",
       "      <td>1577</td>\n",
       "      <td>win</td>\n",
       "      <td>resigned</td>\n",
       "      <td>daily</td>\n",
       "      <td>1/172800</td>\n",
       "      <td>chess</td>\n",
       "      <td>True</td>\n",
       "      <td>8/5Q1k/4n1pp/8/7P/2N2b2/PP3P2/5K2 b - - 1 33</td>\n",
       "      <td>[Event \"Rapid Rats - Board 5\"]\\n[Site \"Chess.c...</td>\n",
       "      <td>Giuoco-Piano-Game-Main-Line</td>\n",
       "      <td>1600-1799</td>\n",
       "      <td>1400-1599</td>\n",
       "    </tr>\n",
       "    <tr>\n",
       "      <th>2</th>\n",
       "      <td>-Amos-</td>\n",
       "      <td>enhmandah</td>\n",
       "      <td>https://api.chess.com/pub/player/-amos-</td>\n",
       "      <td>https://api.chess.com/pub/player/enhmandah</td>\n",
       "      <td>1727</td>\n",
       "      <td>842</td>\n",
       "      <td>win</td>\n",
       "      <td>resigned</td>\n",
       "      <td>daily</td>\n",
       "      <td>1/172800</td>\n",
       "      <td>chess</td>\n",
       "      <td>True</td>\n",
       "      <td>rn1q1b1r/kb2p1pp/2p5/p1Q5/N1BP2n1/4PN2/1P3PPP/...</td>\n",
       "      <td>[Event \"CHESS BOARD CLASH - Round 1\"]\\n[Site \"...</td>\n",
       "      <td>Queens-Pawn-Opening-1...d5-2.e3</td>\n",
       "      <td>1600-1799</td>\n",
       "      <td>&lt;1200</td>\n",
       "    </tr>\n",
       "    <tr>\n",
       "      <th>3</th>\n",
       "      <td>enhmandah</td>\n",
       "      <td>-Amos-</td>\n",
       "      <td>https://api.chess.com/pub/player/enhmandah</td>\n",
       "      <td>https://api.chess.com/pub/player/-amos-</td>\n",
       "      <td>819</td>\n",
       "      <td>1727</td>\n",
       "      <td>checkmated</td>\n",
       "      <td>win</td>\n",
       "      <td>daily</td>\n",
       "      <td>1/172800</td>\n",
       "      <td>chess</td>\n",
       "      <td>True</td>\n",
       "      <td>r3kb1r/pp3ppp/3p1n2/2pKp3/P3P3/1P6/4qP1P/QNB5 ...</td>\n",
       "      <td>[Event \"CHESS BOARD CLASH - Round 1\"]\\n[Site \"...</td>\n",
       "      <td>Sicilian-Defense-Snyder-Variation</td>\n",
       "      <td>&lt;1200</td>\n",
       "      <td>1600-1799</td>\n",
       "    </tr>\n",
       "    <tr>\n",
       "      <th>4</th>\n",
       "      <td>-Amos-</td>\n",
       "      <td>Shalllow-Blue</td>\n",
       "      <td>https://api.chess.com/pub/player/-amos-</td>\n",
       "      <td>https://api.chess.com/pub/player/shalllow-blue</td>\n",
       "      <td>1729</td>\n",
       "      <td>1116</td>\n",
       "      <td>win</td>\n",
       "      <td>resigned</td>\n",
       "      <td>daily</td>\n",
       "      <td>1/172800</td>\n",
       "      <td>chess</td>\n",
       "      <td>True</td>\n",
       "      <td>r3b2r/pp6/2pPpR1k/4n3/2P3Q1/3B4/PP4PP/R5K1 b -...</td>\n",
       "      <td>[Event \"CHESS BOARD CLASH - Round 1\"]\\n[Site \"...</td>\n",
       "      <td>Queens-Pawn-Opening-Horwitz-Defense-2.c4</td>\n",
       "      <td>1600-1799</td>\n",
       "      <td>&lt;1200</td>\n",
       "    </tr>\n",
       "  </tbody>\n",
       "</table>\n",
       "</div>"
      ],
      "text/plain": [
       "  white_username black_username                                    white_id  \\\n",
       "0         -Amos-    miniman2804     https://api.chess.com/pub/player/-amos-   \n",
       "1         -Amos-      koltcho69     https://api.chess.com/pub/player/-amos-   \n",
       "2         -Amos-      enhmandah     https://api.chess.com/pub/player/-amos-   \n",
       "3      enhmandah         -Amos-  https://api.chess.com/pub/player/enhmandah   \n",
       "4         -Amos-  Shalllow-Blue     https://api.chess.com/pub/player/-amos-   \n",
       "\n",
       "                                         black_id  white_rating  black_rating  \\\n",
       "0    https://api.chess.com/pub/player/miniman2804          1708          1608   \n",
       "1      https://api.chess.com/pub/player/koltcho69          1726          1577   \n",
       "2      https://api.chess.com/pub/player/enhmandah          1727           842   \n",
       "3         https://api.chess.com/pub/player/-amos-           819          1727   \n",
       "4  https://api.chess.com/pub/player/shalllow-blue          1729          1116   \n",
       "\n",
       "  white_result black_result time_class time_control  rules  rated  \\\n",
       "0          win   checkmated      daily     1/259200  chess   True   \n",
       "1          win     resigned      daily     1/172800  chess   True   \n",
       "2          win     resigned      daily     1/172800  chess   True   \n",
       "3   checkmated          win      daily     1/172800  chess   True   \n",
       "4          win     resigned      daily     1/172800  chess   True   \n",
       "\n",
       "                                                 fen  \\\n",
       "0  r2r4/p2p1p1p/b6R/n1p1kp2/2P2P2/3BP3/PP5P/4K2R ...   \n",
       "1       8/5Q1k/4n1pp/8/7P/2N2b2/PP3P2/5K2 b - - 1 33   \n",
       "2  rn1q1b1r/kb2p1pp/2p5/p1Q5/N1BP2n1/4PN2/1P3PPP/...   \n",
       "3  r3kb1r/pp3ppp/3p1n2/2pKp3/P3P3/1P6/4qP1P/QNB5 ...   \n",
       "4  r3b2r/pp6/2pPpR1k/4n3/2P3Q1/3B4/PP4PP/R5K1 b -...   \n",
       "\n",
       "                                                 pgn  \\\n",
       "0  [Event \"Enjoyable games 2 - Round 1\"]\\n[Site \"...   \n",
       "1  [Event \"Rapid Rats - Board 5\"]\\n[Site \"Chess.c...   \n",
       "2  [Event \"CHESS BOARD CLASH - Round 1\"]\\n[Site \"...   \n",
       "3  [Event \"CHESS BOARD CLASH - Round 1\"]\\n[Site \"...   \n",
       "4  [Event \"CHESS BOARD CLASH - Round 1\"]\\n[Site \"...   \n",
       "\n",
       "                                    opening white_group black_group  \n",
       "0  Nimzo-Indian-Defense-Spielmann-Variation   1600-1799   1600-1799  \n",
       "1               Giuoco-Piano-Game-Main-Line   1600-1799   1400-1599  \n",
       "2           Queens-Pawn-Opening-1...d5-2.e3   1600-1799       <1200  \n",
       "3         Sicilian-Defense-Snyder-Variation       <1200   1600-1799  \n",
       "4  Queens-Pawn-Opening-Horwitz-Defense-2.c4   1600-1799       <1200  "
      ]
     },
     "execution_count": 2,
     "metadata": {},
     "output_type": "execute_result"
    }
   ],
   "source": [
    "df = pd.read_csv('data/chess-openings.csv')\n",
    "\n",
    "elo_bins = [0, 1200, 1400, 1600, 1800, 2000, 2200, 2400, 3000]\n",
    "elo_labels = ['<1200', '1200-1399', '1400-1599', '1600-1799', '1800-1999', '2000-2199', '2200-2399', '2400+']\n",
    "## probably the same\n",
    "df['white_group'] = pd.cut(df['white_rating'], bins=elo_bins, labels=elo_labels)\n",
    "df['black_group'] = pd.cut(df['black_rating'], bins=elo_bins, labels=elo_labels)\n",
    "\n",
    "df.head()"
   ]
  },
  {
   "cell_type": "code",
   "execution_count": 25,
   "id": "c649831b",
   "metadata": {},
   "outputs": [
    {
     "data": {
      "text/plain": [
       "{'Bishops-Opening': 1206,\n",
       " 'Scandinavian-Defense': 1018,\n",
       " 'Queens-Pawn-Opening-Accelerated-London-System': 966,\n",
       " 'Vant-Kruijs-Opening': 927,\n",
       " 'Sicilian-Defense-Bowdler-Attack': 849,\n",
       " 'Queens-Pawn-Opening-1...d5-2.e3': 782,\n",
       " 'Kings-Pawn-Opening-Owens-Defense': 709,\n",
       " 'Scandinavian-Defense-Mieses-Kotrc-Variation': 690,\n",
       " 'Vant-Kruijs-Opening-1...e5': 668,\n",
       " 'Philidor-Defense-3.Bc4': 661}"
      ]
     },
     "execution_count": 25,
     "metadata": {},
     "output_type": "execute_result"
    }
   ],
   "source": [
    "total_counts = {k:v for k,v in dict(df['opening'].value_counts()).items()}\n",
    "total_counts = dict(sorted(total_counts.items(), key=lambda item: item[1], reverse=True))\n",
    "top10 = {k: v for i, (k, v) in enumerate(total_counts.items()) if i < 10}\n",
    "top10"
   ]
  },
  {
   "cell_type": "code",
   "execution_count": 21,
   "id": "749c12b7",
   "metadata": {},
   "outputs": [],
   "source": [
    "white = dict(df.groupby('white_group')['opening'].apply(lambda x: x.mode()[0]))\n",
    "black = dict(df.groupby('black_group')['opening'].apply(lambda x: x.mode()[0]))"
   ]
  },
  {
   "cell_type": "code",
   "execution_count": 22,
   "id": "efed372e",
   "metadata": {},
   "outputs": [
    {
     "data": {
      "text/plain": [
       "{'<1200': 'Scandinavian-Defense',\n",
       " '1200-1399': 'Bishops-Opening',\n",
       " '1400-1599': 'Sicilian-Defense-Bowdler-Attack',\n",
       " '1600-1799': 'Scandinavian-Defense-Mieses-Kotrc-Variation',\n",
       " '1800-1999': 'Queens-Pawn-Opening-Zukertort-Variation',\n",
       " '2000-2199': 'Sicilian-Defense-Hyperaccelerated-Dragon-Fianchetto-Variation-3...cxd4-4.Nxd4',\n",
       " '2200-2399': 'Caro-Kann-Defense-Advance-Tal-Variation',\n",
       " '2400+': 'Alekhines-Defense-Modern-Main-Line'}"
      ]
     },
     "execution_count": 22,
     "metadata": {},
     "output_type": "execute_result"
    }
   ],
   "source": [
    "white"
   ]
  },
  {
   "cell_type": "code",
   "execution_count": 23,
   "id": "fcb6d8ff",
   "metadata": {},
   "outputs": [
    {
     "data": {
      "text/plain": [
       "{'<1200': 'Scandinavian-Defense',\n",
       " '1200-1399': 'Bishops-Opening',\n",
       " '1400-1599': 'Sicilian-Defense-Bowdler-Attack',\n",
       " '1600-1799': 'Bishops-Opening',\n",
       " '1800-1999': 'Kings-Fianchetto-Opening',\n",
       " '2000-2199': 'Indian-Game',\n",
       " '2200-2399': 'Caro-Kann-Defense-Advance-Tal-Variation',\n",
       " '2400+': 'Queens-Pawn-Opening-Zukertort-Variation'}"
      ]
     },
     "execution_count": 23,
     "metadata": {},
     "output_type": "execute_result"
    }
   ],
   "source": [
    "black"
   ]
  }
 ],
 "metadata": {
  "kernelspec": {
   "display_name": "Python 3 (ipykernel)",
   "language": "python",
   "name": "python3"
  },
  "language_info": {
   "codemirror_mode": {
    "name": "ipython",
    "version": 3
   },
   "file_extension": ".py",
   "mimetype": "text/x-python",
   "name": "python",
   "nbconvert_exporter": "python",
   "pygments_lexer": "ipython3",
   "version": "3.11.2"
  }
 },
 "nbformat": 4,
 "nbformat_minor": 5
}
