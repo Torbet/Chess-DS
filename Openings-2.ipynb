{
 "cells": [
  {
   "cell_type": "code",
   "execution_count": 9,
   "id": "5f71dde7",
   "metadata": {},
   "outputs": [],
   "source": [
    "import numpy as np\n",
    "import pandas as pd\n",
    "import chess\n",
    "import matplotlib.pyplot as plt\n",
    "%matplotlib inline"
   ]
  },
  {
   "cell_type": "code",
   "execution_count": 17,
   "id": "f3bfe3b5",
   "metadata": {},
   "outputs": [
    {
     "data": {
      "text/html": [
       "<div>\n",
       "<style scoped>\n",
       "    .dataframe tbody tr th:only-of-type {\n",
       "        vertical-align: middle;\n",
       "    }\n",
       "\n",
       "    .dataframe tbody tr th {\n",
       "        vertical-align: top;\n",
       "    }\n",
       "\n",
       "    .dataframe thead th {\n",
       "        text-align: right;\n",
       "    }\n",
       "</style>\n",
       "<table border=\"1\" class=\"dataframe\">\n",
       "  <thead>\n",
       "    <tr style=\"text-align: right;\">\n",
       "      <th></th>\n",
       "      <th>white_username</th>\n",
       "      <th>black_username</th>\n",
       "      <th>white_id</th>\n",
       "      <th>black_id</th>\n",
       "      <th>white_rating</th>\n",
       "      <th>black_rating</th>\n",
       "      <th>white_result</th>\n",
       "      <th>black_result</th>\n",
       "      <th>time_class</th>\n",
       "      <th>time_control</th>\n",
       "      <th>rules</th>\n",
       "      <th>rated</th>\n",
       "      <th>fen</th>\n",
       "      <th>pgn</th>\n",
       "      <th>opening</th>\n",
       "      <th>white_group</th>\n",
       "      <th>black_group</th>\n",
       "    </tr>\n",
       "  </thead>\n",
       "  <tbody>\n",
       "    <tr>\n",
       "      <th>0</th>\n",
       "      <td>-Amos-</td>\n",
       "      <td>miniman2804</td>\n",
       "      <td>https://api.chess.com/pub/player/-amos-</td>\n",
       "      <td>https://api.chess.com/pub/player/miniman2804</td>\n",
       "      <td>1708</td>\n",
       "      <td>1608</td>\n",
       "      <td>win</td>\n",
       "      <td>checkmated</td>\n",
       "      <td>daily</td>\n",
       "      <td>1/259200</td>\n",
       "      <td>chess</td>\n",
       "      <td>True</td>\n",
       "      <td>r2r4/p2p1p1p/b6R/n1p1kp2/2P2P2/3BP3/PP5P/4K2R ...</td>\n",
       "      <td>[Event \"Enjoyable games 2 - Round 1\"]\\n[Site \"...</td>\n",
       "      <td>Nimzo-Indian-Defense-Spielmann-Variation</td>\n",
       "      <td>1600-1799</td>\n",
       "      <td>1600-1799</td>\n",
       "    </tr>\n",
       "    <tr>\n",
       "      <th>1</th>\n",
       "      <td>-Amos-</td>\n",
       "      <td>koltcho69</td>\n",
       "      <td>https://api.chess.com/pub/player/-amos-</td>\n",
       "      <td>https://api.chess.com/pub/player/koltcho69</td>\n",
       "      <td>1726</td>\n",
       "      <td>1577</td>\n",
       "      <td>win</td>\n",
       "      <td>resigned</td>\n",
       "      <td>daily</td>\n",
       "      <td>1/172800</td>\n",
       "      <td>chess</td>\n",
       "      <td>True</td>\n",
       "      <td>8/5Q1k/4n1pp/8/7P/2N2b2/PP3P2/5K2 b - - 1 33</td>\n",
       "      <td>[Event \"Rapid Rats - Board 5\"]\\n[Site \"Chess.c...</td>\n",
       "      <td>Giuoco-Piano-Game-Main-Line</td>\n",
       "      <td>1600-1799</td>\n",
       "      <td>1400-1599</td>\n",
       "    </tr>\n",
       "    <tr>\n",
       "      <th>2</th>\n",
       "      <td>-Amos-</td>\n",
       "      <td>enhmandah</td>\n",
       "      <td>https://api.chess.com/pub/player/-amos-</td>\n",
       "      <td>https://api.chess.com/pub/player/enhmandah</td>\n",
       "      <td>1727</td>\n",
       "      <td>842</td>\n",
       "      <td>win</td>\n",
       "      <td>resigned</td>\n",
       "      <td>daily</td>\n",
       "      <td>1/172800</td>\n",
       "      <td>chess</td>\n",
       "      <td>True</td>\n",
       "      <td>rn1q1b1r/kb2p1pp/2p5/p1Q5/N1BP2n1/4PN2/1P3PPP/...</td>\n",
       "      <td>[Event \"CHESS BOARD CLASH - Round 1\"]\\n[Site \"...</td>\n",
       "      <td>Queens-Pawn-Opening-1...d5-2.e3</td>\n",
       "      <td>1600-1799</td>\n",
       "      <td>&lt;1200</td>\n",
       "    </tr>\n",
       "    <tr>\n",
       "      <th>3</th>\n",
       "      <td>enhmandah</td>\n",
       "      <td>-Amos-</td>\n",
       "      <td>https://api.chess.com/pub/player/enhmandah</td>\n",
       "      <td>https://api.chess.com/pub/player/-amos-</td>\n",
       "      <td>819</td>\n",
       "      <td>1727</td>\n",
       "      <td>checkmated</td>\n",
       "      <td>win</td>\n",
       "      <td>daily</td>\n",
       "      <td>1/172800</td>\n",
       "      <td>chess</td>\n",
       "      <td>True</td>\n",
       "      <td>r3kb1r/pp3ppp/3p1n2/2pKp3/P3P3/1P6/4qP1P/QNB5 ...</td>\n",
       "      <td>[Event \"CHESS BOARD CLASH - Round 1\"]\\n[Site \"...</td>\n",
       "      <td>Sicilian-Defense-Snyder-Variation</td>\n",
       "      <td>&lt;1200</td>\n",
       "      <td>1600-1799</td>\n",
       "    </tr>\n",
       "    <tr>\n",
       "      <th>4</th>\n",
       "      <td>-Amos-</td>\n",
       "      <td>Shalllow-Blue</td>\n",
       "      <td>https://api.chess.com/pub/player/-amos-</td>\n",
       "      <td>https://api.chess.com/pub/player/shalllow-blue</td>\n",
       "      <td>1729</td>\n",
       "      <td>1116</td>\n",
       "      <td>win</td>\n",
       "      <td>resigned</td>\n",
       "      <td>daily</td>\n",
       "      <td>1/172800</td>\n",
       "      <td>chess</td>\n",
       "      <td>True</td>\n",
       "      <td>r3b2r/pp6/2pPpR1k/4n3/2P3Q1/3B4/PP4PP/R5K1 b -...</td>\n",
       "      <td>[Event \"CHESS BOARD CLASH - Round 1\"]\\n[Site \"...</td>\n",
       "      <td>Queens-Pawn-Opening-Horwitz-Defense-2.c4</td>\n",
       "      <td>1600-1799</td>\n",
       "      <td>&lt;1200</td>\n",
       "    </tr>\n",
       "  </tbody>\n",
       "</table>\n",
       "</div>"
      ],
      "text/plain": [
       "  white_username black_username                                    white_id  \\\n",
       "0         -Amos-    miniman2804     https://api.chess.com/pub/player/-amos-   \n",
       "1         -Amos-      koltcho69     https://api.chess.com/pub/player/-amos-   \n",
       "2         -Amos-      enhmandah     https://api.chess.com/pub/player/-amos-   \n",
       "3      enhmandah         -Amos-  https://api.chess.com/pub/player/enhmandah   \n",
       "4         -Amos-  Shalllow-Blue     https://api.chess.com/pub/player/-amos-   \n",
       "\n",
       "                                         black_id  white_rating  black_rating  \\\n",
       "0    https://api.chess.com/pub/player/miniman2804          1708          1608   \n",
       "1      https://api.chess.com/pub/player/koltcho69          1726          1577   \n",
       "2      https://api.chess.com/pub/player/enhmandah          1727           842   \n",
       "3         https://api.chess.com/pub/player/-amos-           819          1727   \n",
       "4  https://api.chess.com/pub/player/shalllow-blue          1729          1116   \n",
       "\n",
       "  white_result black_result time_class time_control  rules  rated  \\\n",
       "0          win   checkmated      daily     1/259200  chess   True   \n",
       "1          win     resigned      daily     1/172800  chess   True   \n",
       "2          win     resigned      daily     1/172800  chess   True   \n",
       "3   checkmated          win      daily     1/172800  chess   True   \n",
       "4          win     resigned      daily     1/172800  chess   True   \n",
       "\n",
       "                                                 fen  \\\n",
       "0  r2r4/p2p1p1p/b6R/n1p1kp2/2P2P2/3BP3/PP5P/4K2R ...   \n",
       "1       8/5Q1k/4n1pp/8/7P/2N2b2/PP3P2/5K2 b - - 1 33   \n",
       "2  rn1q1b1r/kb2p1pp/2p5/p1Q5/N1BP2n1/4PN2/1P3PPP/...   \n",
       "3  r3kb1r/pp3ppp/3p1n2/2pKp3/P3P3/1P6/4qP1P/QNB5 ...   \n",
       "4  r3b2r/pp6/2pPpR1k/4n3/2P3Q1/3B4/PP4PP/R5K1 b -...   \n",
       "\n",
       "                                                 pgn  \\\n",
       "0  [Event \"Enjoyable games 2 - Round 1\"]\\n[Site \"...   \n",
       "1  [Event \"Rapid Rats - Board 5\"]\\n[Site \"Chess.c...   \n",
       "2  [Event \"CHESS BOARD CLASH - Round 1\"]\\n[Site \"...   \n",
       "3  [Event \"CHESS BOARD CLASH - Round 1\"]\\n[Site \"...   \n",
       "4  [Event \"CHESS BOARD CLASH - Round 1\"]\\n[Site \"...   \n",
       "\n",
       "                                    opening white_group black_group  \n",
       "0  Nimzo-Indian-Defense-Spielmann-Variation   1600-1799   1600-1799  \n",
       "1               Giuoco-Piano-Game-Main-Line   1600-1799   1400-1599  \n",
       "2           Queens-Pawn-Opening-1...d5-2.e3   1600-1799       <1200  \n",
       "3         Sicilian-Defense-Snyder-Variation       <1200   1600-1799  \n",
       "4  Queens-Pawn-Opening-Horwitz-Defense-2.c4   1600-1799       <1200  "
      ]
     },
     "execution_count": 17,
     "metadata": {},
     "output_type": "execute_result"
    }
   ],
   "source": [
    "df = pd.read_csv('data/chess-openings.csv')\n",
    "\n",
    "elo_bins = [0, 1200, 1400, 1600, 1800, 2000, 2200, 2400, 3000]\n",
    "elo_labels = ['<1200', '1200-1399', '1400-1599', '1600-1799', '1800-1999', '2000-2199', '2200-2399', '2400+']\n",
    "## probably the same\n",
    "df['white_group'] = pd.cut(df['white_rating'], bins=elo_bins, labels=elo_labels)\n",
    "df['black_group'] = pd.cut(df['black_rating'], bins=elo_bins, labels=elo_labels)\n",
    "\n",
    "df.head()"
   ]
  },
  {
   "cell_type": "code",
   "execution_count": 12,
   "id": "c649831b",
   "metadata": {},
   "outputs": [
    {
     "data": {
      "text/plain": [
       "{'Bishops-Opening': 1206,\n",
       " 'Scandinavian-Defense': 1018,\n",
       " 'Queens-Pawn-Opening-Accelerated-London-System': 966,\n",
       " 'Vant-Kruijs-Opening': 927,\n",
       " 'Sicilian-Defense-Bowdler-Attack': 849,\n",
       " 'Queens-Pawn-Opening-1...d5-2.e3': 782,\n",
       " 'Kings-Pawn-Opening-Owens-Defense': 709,\n",
       " 'Scandinavian-Defense-Mieses-Kotrc-Variation': 690,\n",
       " 'Vant-Kruijs-Opening-1...e5': 668,\n",
       " 'Philidor-Defense-3.Bc4': 661}"
      ]
     },
     "execution_count": 12,
     "metadata": {},
     "output_type": "execute_result"
    }
   ],
   "source": [
    "total_counts = {k:v for k,v in dict(df['opening'].value_counts()).items()}\n",
    "total_counts = dict(sorted(total_counts.items(), key=lambda item: item[1], reverse=True))\n",
    "top10 = {k: v for i, (k, v) in enumerate(total_counts.items()) if i < 10}\n",
    "top10"
   ]
  },
  {
   "cell_type": "code",
   "execution_count": 13,
   "id": "749c12b7",
   "metadata": {},
   "outputs": [],
   "source": [
    "white = df.groupby('white_group')['opening'].apply(lambda x: x.mode()[0])\n",
    "black = df.groupby('black_group')['opening'].apply(lambda x: x.mode()[0])"
   ]
  },
  {
   "cell_type": "code",
   "execution_count": 14,
   "id": "efed372e",
   "metadata": {},
   "outputs": [
    {
     "data": {
      "text/plain": [
       "{'<1200': 'Scandinavian-Defense',\n",
       " '1200-1399': 'Bishops-Opening',\n",
       " '1400-1599': 'Sicilian-Defense-Bowdler-Attack',\n",
       " '1600-1799': 'Scandinavian-Defense-Mieses-Kotrc-Variation',\n",
       " '1800-1999': 'Queens-Pawn-Opening-Zukertort-Variation',\n",
       " '2000-2199': 'Sicilian-Defense-Hyperaccelerated-Dragon-Fianchetto-Variation-3...cxd4-4.Nxd4',\n",
       " '2200-2399': 'Caro-Kann-Defense-Advance-Tal-Variation',\n",
       " '2400+': 'Alekhines-Defense-Modern-Main-Line'}"
      ]
     },
     "execution_count": 14,
     "metadata": {},
     "output_type": "execute_result"
    }
   ],
   "source": [
    "dict(white)"
   ]
  },
  {
   "cell_type": "code",
   "execution_count": 15,
   "id": "fcb6d8ff",
   "metadata": {},
   "outputs": [
    {
     "data": {
      "text/plain": [
       "{'<1200': 'Scandinavian-Defense',\n",
       " '1200-1399': 'Bishops-Opening',\n",
       " '1400-1599': 'Sicilian-Defense-Bowdler-Attack',\n",
       " '1600-1799': 'Bishops-Opening',\n",
       " '1800-1999': 'Kings-Fianchetto-Opening',\n",
       " '2000-2199': 'Indian-Game',\n",
       " '2200-2399': 'Caro-Kann-Defense-Advance-Tal-Variation',\n",
       " '2400+': 'Queens-Pawn-Opening-Zukertort-Variation'}"
      ]
     },
     "execution_count": 15,
     "metadata": {},
     "output_type": "execute_result"
    }
   ],
   "source": [
    "dict(black)"
   ]
  },
  {
   "cell_type": "code",
   "execution_count": 165,
   "id": "67dc221e",
   "metadata": {},
   "outputs": [],
   "source": [
    "total = df.groupby('opening').size().sort_values()\n",
    "mean = total.mean()\n",
    "total = total[total > mean]\n",
    "\n",
    "white = df[df['white_result'] == 'win'].groupby('opening').size()\n",
    "black = df[df['black_result'] == 'win'].groupby('opening').size()\n",
    "\n",
    "white_rates = (white / total).dropna().sort_values()\n",
    "black_rates = (black / total).dropna().sort_values()"
   ]
  },
  {
   "cell_type": "code",
   "execution_count": 166,
   "id": "94e3c58c",
   "metadata": {},
   "outputs": [
    {
     "data": {
      "text/plain": [
       "opening\n",
       "Alekhines-Defense-Mokele-Mbembe-Variation                   22\n",
       "French-Defense-Exchange-Monte-Carlo-Variation-4...Nf6       22\n",
       "Kings-Pawn-Opening-Kings-Knight-Elephant-Gambit-3.Nxe5      22\n",
       "Polish-Opening-Czech-Defense                                22\n",
       "Italian-Game-Blackburne-Shilling-Gambit-4.Nxe5-Qg5          22\n",
       "                                                          ... \n",
       "Sicilian-Defense-Bowdler-Attack                            849\n",
       "Vant-Kruijs-Opening                                        927\n",
       "Queens-Pawn-Opening-Accelerated-London-System              966\n",
       "Scandinavian-Defense                                      1018\n",
       "Bishops-Opening                                           1206\n",
       "Length: 533, dtype: int64"
      ]
     },
     "execution_count": 166,
     "metadata": {},
     "output_type": "execute_result"
    }
   ],
   "source": [
    "total"
   ]
  },
  {
   "cell_type": "code",
   "execution_count": 167,
   "id": "40a38b0d",
   "metadata": {},
   "outputs": [
    {
     "data": {
      "text/plain": [
       "opening\n",
       "Unknown                                                              0.138940\n",
       "Ruy-Lopez-Opening-Birds-Defense-4.Nxd4-exd4-5.d3                     0.208333\n",
       "Birds-Opening-Dutch-Variation                                        0.222222\n",
       "Grob-Opening                                                         0.244898\n",
       "Sicilian-Defense-Open-Accelerated-Dragon-Modern-Variation-5...Bg7    0.250000\n",
       "                                                                       ...   \n",
       "Scandinavian-Defense-Modern-Scandinavian-Gambit                      0.708333\n",
       "Kings-Indian-Attack                                                  0.730769\n",
       "Sicilian-Defense-McDonnell-Attack                                    0.739130\n",
       "Petrovs-Defense-Classical-Damiano-Variation-4.Qe2                    0.742857\n",
       "Kings-Pawn-Opening                                                   0.876866\n",
       "Length: 533, dtype: float64"
      ]
     },
     "execution_count": 167,
     "metadata": {},
     "output_type": "execute_result"
    }
   ],
   "source": [
    "white_rates"
   ]
  },
  {
   "cell_type": "code",
   "execution_count": 168,
   "id": "d4b1841c",
   "metadata": {},
   "outputs": [
    {
     "data": {
      "text/plain": [
       "opening\n",
       "Kings-Pawn-Opening                                   0.093284\n",
       "Petrovs-Defense-Classical-Damiano-Variation-4.Qe2    0.228571\n",
       "Kings-Indian-Attack                                  0.230769\n",
       "Giuoco-Piano-Game-4.Nc3                              0.238095\n",
       "Scandinavian-Defense-Modern-Scandinavian-Gambit      0.250000\n",
       "                                                       ...   \n",
       "Sicilian-Defense-Delayed-Alapin-Variation-3...Nf6    0.727273\n",
       "Grob-Opening                                         0.734694\n",
       "Grob-Opening-1...e5                                  0.740741\n",
       "Ruy-Lopez-Opening-Birds-Defense-4.Nxd4-exd4-5.d3     0.750000\n",
       "Unknown                                              0.835466\n",
       "Length: 533, dtype: float64"
      ]
     },
     "execution_count": 168,
     "metadata": {},
     "output_type": "execute_result"
    }
   ],
   "source": [
    "black_rates"
   ]
  }
 ],
 "metadata": {
  "kernelspec": {
   "display_name": "Python 3 (ipykernel)",
   "language": "python",
   "name": "python3"
  },
  "language_info": {
   "codemirror_mode": {
    "name": "ipython",
    "version": 3
   },
   "file_extension": ".py",
   "mimetype": "text/x-python",
   "name": "python",
   "nbconvert_exporter": "python",
   "pygments_lexer": "ipython3",
   "version": "3.11.2"
  }
 },
 "nbformat": 4,
 "nbformat_minor": 5
}
