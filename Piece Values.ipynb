{
 "cells": [
  {
   "cell_type": "code",
   "execution_count": 1,
   "id": "61f95ddc",
   "metadata": {},
   "outputs": [],
   "source": [
    "import numpy as np\n",
    "import pandas as pd\n",
    "from math import log\n",
    "import chess\n",
    "from sklearn.linear_model import LogisticRegression\n",
    "import matplotlib.pyplot as plt\n",
    "%matplotlib inline"
   ]
  },
  {
   "cell_type": "code",
   "execution_count": 2,
   "id": "c29c7ac3",
   "metadata": {},
   "outputs": [],
   "source": [
    "def get_result(white_result):\n",
    "    if white_result == 'win':\n",
    "        return 1\n",
    "    elif white_result == 'drew':\n",
    "        return 0\n",
    "    else:\n",
    "        return -1\n",
    "\n",
    "def piece_imbalance(fen):\n",
    "    board = chess.Board(fen)\n",
    "    piece_counts = {\n",
    "        'P': len(board.pieces(chess.PAWN, chess.WHITE)),\n",
    "        'N': len(board.pieces(chess.KNIGHT, chess.WHITE)),\n",
    "        'B': len(board.pieces(chess.BISHOP, chess.WHITE)),\n",
    "        'R': len(board.pieces(chess.ROOK, chess.WHITE)),\n",
    "        'Q': len(board.pieces(chess.QUEEN, chess.WHITE)),\n",
    "        'p': len(board.pieces(chess.PAWN, chess.BLACK)),\n",
    "        'n': len(board.pieces(chess.KNIGHT, chess.BLACK)),\n",
    "        'b': len(board.pieces(chess.BISHOP, chess.BLACK)),\n",
    "        'r': len(board.pieces(chess.ROOK, chess.BLACK)),\n",
    "        'q': len(board.pieces(chess.QUEEN, chess.BLACK))\n",
    "    }\n",
    "\n",
    "    imbalance = {\n",
    "        'Pawns': piece_counts['P'] - piece_counts['p'],\n",
    "        'Knights': piece_counts['N'] - piece_counts['n'],\n",
    "        'Bishops': piece_counts['B'] - piece_counts['b'],\n",
    "        'Rooks': piece_counts['R'] - piece_counts['r'],\n",
    "        'Queens': piece_counts['Q'] - piece_counts['q']\n",
    "    }\n",
    "\n",
    "    return imbalance"
   ]
  },
  {
   "cell_type": "code",
   "execution_count": 7,
   "id": "1001683b",
   "metadata": {},
   "outputs": [],
   "source": [
    "symbols = ['♙', '♘', '♗', '♖', '♕']"
   ]
  },
  {
   "cell_type": "code",
   "execution_count": 3,
   "id": "2e2e5e4b",
   "metadata": {},
   "outputs": [
    {
     "data": {
      "text/html": [
       "<div>\n",
       "<style scoped>\n",
       "    .dataframe tbody tr th:only-of-type {\n",
       "        vertical-align: middle;\n",
       "    }\n",
       "\n",
       "    .dataframe tbody tr th {\n",
       "        vertical-align: top;\n",
       "    }\n",
       "\n",
       "    .dataframe thead th {\n",
       "        text-align: right;\n",
       "    }\n",
       "</style>\n",
       "<table border=\"1\" class=\"dataframe\">\n",
       "  <thead>\n",
       "    <tr style=\"text-align: right;\">\n",
       "      <th></th>\n",
       "      <th>white_username</th>\n",
       "      <th>black_username</th>\n",
       "      <th>white_id</th>\n",
       "      <th>black_id</th>\n",
       "      <th>white_rating</th>\n",
       "      <th>black_rating</th>\n",
       "      <th>white_result</th>\n",
       "      <th>black_result</th>\n",
       "      <th>time_class</th>\n",
       "      <th>time_control</th>\n",
       "      <th>rules</th>\n",
       "      <th>rated</th>\n",
       "      <th>fen</th>\n",
       "      <th>pgn</th>\n",
       "      <th>result</th>\n",
       "    </tr>\n",
       "  </thead>\n",
       "  <tbody>\n",
       "    <tr>\n",
       "      <th>0</th>\n",
       "      <td>-Amos-</td>\n",
       "      <td>miniman2804</td>\n",
       "      <td>https://api.chess.com/pub/player/-amos-</td>\n",
       "      <td>https://api.chess.com/pub/player/miniman2804</td>\n",
       "      <td>1708</td>\n",
       "      <td>1608</td>\n",
       "      <td>win</td>\n",
       "      <td>checkmated</td>\n",
       "      <td>daily</td>\n",
       "      <td>1/259200</td>\n",
       "      <td>chess</td>\n",
       "      <td>True</td>\n",
       "      <td>r2r4/p2p1p1p/b6R/n1p1kp2/2P2P2/3BP3/PP5P/4K2R ...</td>\n",
       "      <td>[Event \"Enjoyable games 2 - Round 1\"]\\n[Site \"...</td>\n",
       "      <td>1</td>\n",
       "    </tr>\n",
       "    <tr>\n",
       "      <th>1</th>\n",
       "      <td>-Amos-</td>\n",
       "      <td>koltcho69</td>\n",
       "      <td>https://api.chess.com/pub/player/-amos-</td>\n",
       "      <td>https://api.chess.com/pub/player/koltcho69</td>\n",
       "      <td>1726</td>\n",
       "      <td>1577</td>\n",
       "      <td>win</td>\n",
       "      <td>resigned</td>\n",
       "      <td>daily</td>\n",
       "      <td>1/172800</td>\n",
       "      <td>chess</td>\n",
       "      <td>True</td>\n",
       "      <td>8/5Q1k/4n1pp/8/7P/2N2b2/PP3P2/5K2 b - - 1 33</td>\n",
       "      <td>[Event \"Rapid Rats - Board 5\"]\\n[Site \"Chess.c...</td>\n",
       "      <td>1</td>\n",
       "    </tr>\n",
       "    <tr>\n",
       "      <th>2</th>\n",
       "      <td>-Amos-</td>\n",
       "      <td>enhmandah</td>\n",
       "      <td>https://api.chess.com/pub/player/-amos-</td>\n",
       "      <td>https://api.chess.com/pub/player/enhmandah</td>\n",
       "      <td>1727</td>\n",
       "      <td>842</td>\n",
       "      <td>win</td>\n",
       "      <td>resigned</td>\n",
       "      <td>daily</td>\n",
       "      <td>1/172800</td>\n",
       "      <td>chess</td>\n",
       "      <td>True</td>\n",
       "      <td>rn1q1b1r/kb2p1pp/2p5/p1Q5/N1BP2n1/4PN2/1P3PPP/...</td>\n",
       "      <td>[Event \"CHESS BOARD CLASH - Round 1\"]\\n[Site \"...</td>\n",
       "      <td>1</td>\n",
       "    </tr>\n",
       "    <tr>\n",
       "      <th>3</th>\n",
       "      <td>enhmandah</td>\n",
       "      <td>-Amos-</td>\n",
       "      <td>https://api.chess.com/pub/player/enhmandah</td>\n",
       "      <td>https://api.chess.com/pub/player/-amos-</td>\n",
       "      <td>819</td>\n",
       "      <td>1727</td>\n",
       "      <td>checkmated</td>\n",
       "      <td>win</td>\n",
       "      <td>daily</td>\n",
       "      <td>1/172800</td>\n",
       "      <td>chess</td>\n",
       "      <td>True</td>\n",
       "      <td>r3kb1r/pp3ppp/3p1n2/2pKp3/P3P3/1P6/4qP1P/QNB5 ...</td>\n",
       "      <td>[Event \"CHESS BOARD CLASH - Round 1\"]\\n[Site \"...</td>\n",
       "      <td>-1</td>\n",
       "    </tr>\n",
       "    <tr>\n",
       "      <th>4</th>\n",
       "      <td>-Amos-</td>\n",
       "      <td>Shalllow-Blue</td>\n",
       "      <td>https://api.chess.com/pub/player/-amos-</td>\n",
       "      <td>https://api.chess.com/pub/player/shalllow-blue</td>\n",
       "      <td>1729</td>\n",
       "      <td>1116</td>\n",
       "      <td>win</td>\n",
       "      <td>resigned</td>\n",
       "      <td>daily</td>\n",
       "      <td>1/172800</td>\n",
       "      <td>chess</td>\n",
       "      <td>True</td>\n",
       "      <td>r3b2r/pp6/2pPpR1k/4n3/2P3Q1/3B4/PP4PP/R5K1 b -...</td>\n",
       "      <td>[Event \"CHESS BOARD CLASH - Round 1\"]\\n[Site \"...</td>\n",
       "      <td>1</td>\n",
       "    </tr>\n",
       "  </tbody>\n",
       "</table>\n",
       "</div>"
      ],
      "text/plain": [
       "  white_username black_username                                    white_id  \\\n",
       "0         -Amos-    miniman2804     https://api.chess.com/pub/player/-amos-   \n",
       "1         -Amos-      koltcho69     https://api.chess.com/pub/player/-amos-   \n",
       "2         -Amos-      enhmandah     https://api.chess.com/pub/player/-amos-   \n",
       "3      enhmandah         -Amos-  https://api.chess.com/pub/player/enhmandah   \n",
       "4         -Amos-  Shalllow-Blue     https://api.chess.com/pub/player/-amos-   \n",
       "\n",
       "                                         black_id  white_rating  black_rating  \\\n",
       "0    https://api.chess.com/pub/player/miniman2804          1708          1608   \n",
       "1      https://api.chess.com/pub/player/koltcho69          1726          1577   \n",
       "2      https://api.chess.com/pub/player/enhmandah          1727           842   \n",
       "3         https://api.chess.com/pub/player/-amos-           819          1727   \n",
       "4  https://api.chess.com/pub/player/shalllow-blue          1729          1116   \n",
       "\n",
       "  white_result black_result time_class time_control  rules  rated  \\\n",
       "0          win   checkmated      daily     1/259200  chess   True   \n",
       "1          win     resigned      daily     1/172800  chess   True   \n",
       "2          win     resigned      daily     1/172800  chess   True   \n",
       "3   checkmated          win      daily     1/172800  chess   True   \n",
       "4          win     resigned      daily     1/172800  chess   True   \n",
       "\n",
       "                                                 fen  \\\n",
       "0  r2r4/p2p1p1p/b6R/n1p1kp2/2P2P2/3BP3/PP5P/4K2R ...   \n",
       "1       8/5Q1k/4n1pp/8/7P/2N2b2/PP3P2/5K2 b - - 1 33   \n",
       "2  rn1q1b1r/kb2p1pp/2p5/p1Q5/N1BP2n1/4PN2/1P3PPP/...   \n",
       "3  r3kb1r/pp3ppp/3p1n2/2pKp3/P3P3/1P6/4qP1P/QNB5 ...   \n",
       "4  r3b2r/pp6/2pPpR1k/4n3/2P3Q1/3B4/PP4PP/R5K1 b -...   \n",
       "\n",
       "                                                 pgn  result  \n",
       "0  [Event \"Enjoyable games 2 - Round 1\"]\\n[Site \"...       1  \n",
       "1  [Event \"Rapid Rats - Board 5\"]\\n[Site \"Chess.c...       1  \n",
       "2  [Event \"CHESS BOARD CLASH - Round 1\"]\\n[Site \"...       1  \n",
       "3  [Event \"CHESS BOARD CLASH - Round 1\"]\\n[Site \"...      -1  \n",
       "4  [Event \"CHESS BOARD CLASH - Round 1\"]\\n[Site \"...       1  "
      ]
     },
     "execution_count": 3,
     "metadata": {},
     "output_type": "execute_result"
    }
   ],
   "source": [
    "df = pd.read_csv('data/chess.csv')\n",
    "df['result'] = df['white_result'].apply(get_result)\n",
    "df.head()"
   ]
  },
  {
   "cell_type": "code",
   "execution_count": 4,
   "id": "dcbe1577",
   "metadata": {},
   "outputs": [],
   "source": [
    "xs, ys = [], []\n",
    "for i, row in df.iterrows():\n",
    "    imbalance = list(piece_imbalance(row['fen']).values())\n",
    "    result = row['result']\n",
    "    \n",
    "    xs.append(imbalance)\n",
    "    ys.append(result)"
   ]
  },
  {
   "cell_type": "code",
   "execution_count": 61,
   "id": "1b549d10",
   "metadata": {},
   "outputs": [
    {
     "name": "stdout",
     "output_type": "stream",
     "text": [
      "[0.2429952  0.55576156 0.5922617  0.89166011 1.77038479]\n",
      "[1.         2.28712977 2.43733907 3.66945559 7.28567794]\n"
     ]
    }
   ],
   "source": [
    "model = LogisticRegression(solver='lbfgs', multi_class='auto')\n",
    "model.fit(xs, ys)\n",
    "cs = model.coef_[0] + model.intercept_\n",
    "print(cs)\n",
    "values = cs / cs[0]\n",
    "print(values)"
   ]
  },
  {
   "cell_type": "code",
   "execution_count": 62,
   "id": "11c96e11",
   "metadata": {},
   "outputs": [
    {
     "data": {
      "text/plain": [
       "<matplotlib.collections.LineCollection at 0x2add1b550>"
      ]
     },
     "execution_count": 62,
     "metadata": {},
     "output_type": "execute_result"
    },
    {
     "data": {
      "image/png": "[encoded data removed]",
      "text/plain": [
       "<Figure size 640x480 with 1 Axes>"
      ]
     },
     "metadata": {},
     "output_type": "display_data"
    }
   ],
   "source": [
    "fix, ax = plt.subplots()\n",
    "ax.scatter(symbols, values)\n",
    "plt.xticks(fontsize=16)\n",
    "ax.hlines(values, xmin=0, xmax=4, colors='red')"
   ]
  }
 ],
 "metadata": {
  "kernelspec": {
   "display_name": "Python 3 (ipykernel)",
   "language": "python",
   "name": "python3"
  },
  "language_info": {
   "codemirror_mode": {
    "name": "ipython",
    "version": 3
   },
   "file_extension": ".py",
   "mimetype": "text/x-python",
   "name": "python",
   "nbconvert_exporter": "python",
   "pygments_lexer": "ipython3",
   "version": "3.11.2"
  }
 },
 "nbformat": 4,
 "nbformat_minor": 5
}
